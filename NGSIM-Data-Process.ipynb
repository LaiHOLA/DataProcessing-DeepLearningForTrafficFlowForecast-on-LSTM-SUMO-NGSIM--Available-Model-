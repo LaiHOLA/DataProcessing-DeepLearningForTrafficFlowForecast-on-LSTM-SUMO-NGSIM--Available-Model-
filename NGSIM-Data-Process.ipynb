{
 "cells": [
  {
   "cell_type": "code",
   "execution_count": null,
   "id": "a62522ff",
   "metadata": {},
   "outputs": [],
   "source": [
    "#Processing initial data\n",
    "import pandas as pd\n",
    "\n",
    "#Modify this path for the file.\n",
    "df = pd.read_csv('D:\\\\NGSIM数据处理\\\\NGSIM.csv', low_memory=False)\n",
    "df = df[df['Location'].isin(['peachtree', 'lankershim'])]\n",
    "df.to_csv('D:\\\\NGSIM数据处理\\\\processed_ngsim_data.csv', index=False)\n"
   ]
  },
  {
   "cell_type": "code",
   "execution_count": 134,
   "id": "955939b8",
   "metadata": {},
   "outputs": [
    {
     "name": "stdout",
     "output_type": "stream",
     "text": [
      "   Vehicle_ID  Frame_ID Total_Frames    Global_Time  Local_X  Local_Y  \\\n",
      "0         879      6336          811  1118936313500  -24.046  513.096   \n",
      "1        1503      8609        1,130  1118937560800   -6.564  996.874   \n",
      "2         633      3318          275  1118937031700  -51.513  399.214   \n",
      "3        1528      8866          404  1118937586500  -24.053  452.041   \n",
      "4        1350     10267          925  1118936706600  -14.416  520.815   \n",
      "\n",
      "      Global_X     Global_Y  v_length  v_Width  ...  D_Zone  Int_ID  \\\n",
      "0  6452106.035  1873271.842      15.0      7.0  ...   201.0     0.0   \n",
      "1  6452313.510  1873714.849      16.2      7.4  ...   203.0     0.0   \n",
      "2  6452031.973  1873195.646      12.5      7.0  ...   205.0     2.0   \n",
      "3  6452083.184  1873225.318      19.0      8.0  ...   201.0     2.0   \n",
      "4  6452118.062  1873274.613      18.0      7.0  ...   203.0     0.0   \n",
      "\n",
      "   Section_ID Direction  Movement  Preceding  Following  Space_Headway  \\\n",
      "0         3.0       4.0       1.0        869        881          22.92   \n",
      "1         3.0       4.0       1.0      1,502      1,509           46.1   \n",
      "2         0.0       1.0       2.0          0          0              0   \n",
      "3         0.0       4.0       1.0          0      1,541              0   \n",
      "4         3.0       4.0       1.0      1,338      1,353          28.07   \n",
      "\n",
      "   Time_Headway    Location  \n",
      "0      9,999.99  lankershim  \n",
      "1          0.97  lankershim  \n",
      "2             0  lankershim  \n",
      "3             0  lankershim  \n",
      "4      9,999.99  lankershim  \n",
      "\n",
      "[5 rows x 25 columns]\n"
     ]
    },
    {
     "name": "stderr",
     "output_type": "stream",
     "text": [
      "C:\\Users\\29602\\AppData\\Local\\Temp\\ipykernel_17740\\1335631656.py:6: DtypeWarning: Columns (13) have mixed types. Specify dtype option on import or set low_memory=False.\n",
      "  ngsim_df = pd.read_csv(filename, nrows=num_lines)\n"
     ]
    }
   ],
   "source": [
    "import pandas as pd\n",
    "import numpy as np\n",
    "#Modify this path for the file.\n",
    "filename = 'D:\\\\NGSIM数据处理\\\\processed_ngsim_data.csv'\n",
    "num_lines = 200000\n",
    "\n",
    "ngsim_df = pd.read_csv(filename, nrows=num_lines)\n",
    "\n",
    "# 接下来可以对读取的数据进行处理\n",
    "# 例如，打印前几行数据\n",
    "print(ngsim_df.head())\n"
   ]
  },
  {
   "cell_type": "code",
   "execution_count": 135,
   "id": "bd724e32",
   "metadata": {},
   "outputs": [],
   "source": [
    "# Fill missing values\n",
    "ngsim_df = ngsim_df.fillna(0)\n",
    "\n",
    "# Convert speed from feet per second to kilometers per hour\n",
    "ngsim_df['v_Vel'] = ngsim_df['v_Vel'] * 1.09728\n"
   ]
  },
  {
   "cell_type": "code",
   "execution_count": 136,
   "id": "03b2e939",
   "metadata": {},
   "outputs": [
    {
     "name": "stdout",
     "output_type": "stream",
     "text": [
      "Input rows: 200000\n",
      "Output rows: 2411\n"
     ]
    }
   ],
   "source": [
    "# Calculate the position of each vehicle at each time point in meters\n",
    "print(f\"Input rows: {len(ngsim_df)}\")\n",
    "\n",
    "# Calculate the position of each vehicle at each time point in meters\n",
    "ngsim_df['position'] = (ngsim_df['Global_X']**2 + ngsim_df['Global_Y']**2)**0.5 / 0.3048  # convert feet to meters\n",
    "\n",
    "# Divide each 100 meters into a section\n",
    "ngsim_df['Section_ID'] = (ngsim_df['position'] // 100).astype(int)\n",
    "\n",
    "# Calculate the maximum speed\n",
    "max_speed = ngsim_df.groupby('Section_ID')['v_Vel'].max()\n",
    "\n",
    "# Add the maximum speed to the original dataframe\n",
    "ngsim_df = ngsim_df.set_index('Section_ID')\n",
    "ngsim_df['max_speed'] = max_speed\n",
    "ngsim_df = ngsim_df.reset_index()\n",
    "\n",
    "# Calculate speed loss\n",
    "ngsim_df['speed_loss'] = ngsim_df['max_speed'] - ngsim_df['v_Vel']\n",
    "\n",
    "# Calculate time loss\n",
    "ngsim_df['time_loss'] = (ngsim_df['speed_loss'] / ngsim_df['max_speed']) * 45\n",
    "\n",
    "# Convert Global_Time into a 45-second cycle\n",
    "ngsim_df['Global_Time'] = ngsim_df.groupby('Section_ID')['Global_Time'].transform(lambda x: x - x.min())\n",
    "\n",
    "# Convert Global_Time into a 45-second cycle\n",
    "ngsim_df['Global_Time'] = (ngsim_df['Global_Time'] // 45000) * 45000\n",
    "\n",
    "# For each vehicle at each time point, calculate its change in the Local_Y direction\n",
    "ngsim_df['Local_Y'] = ngsim_df['Local_Y'].astype(str).str.replace(',', '').astype(float)\n",
    "\n",
    "# For each vehicle at each time point, calculate its change in the Local_Y direction\n",
    "ngsim_df['y_diff'] = ngsim_df.sort_values(by='Global_Time').groupby('Vehicle_ID')['Local_Y'].diff()\n",
    "\n",
    "# Determine whether each vehicle enters or leaves the section at each time point based on the value of y_diff\n",
    "ngsim_df['enter'] = (ngsim_df['y_diff'] > 0).astype(int)\n",
    "ngsim_df['leave'] = (ngsim_df['y_diff'] < 0).astype(int)\n",
    "\n",
    "# Deduplicate records for each vehicle within each 45-second cycle\n",
    "ngsim_df = ngsim_df.sort_values('Global_Time').groupby(['Vehicle_ID', 'Section_ID', 'Global_Time']).first().reset_index()\n",
    "\n",
    "# Convert speed from kilometers per hour to meters per second\n",
    "ngsim_df['v_Vel_m_s'] = ngsim_df['v_Vel'] * 1000 / 3600\n",
    "\n",
    "# Filter out records with speeds lower than 5.0\n",
    "ngsim_df = ngsim_df[ngsim_df['v_Vel_m_s'] >= 5.0]\n",
    "\n",
    "# Drop rows with missing speed values\n",
    "ngsim_df = ngsim_df.dropna(subset=['v_Vel_m_s'])\n",
    "\n",
    "# Calculate the time spent by each vehicle on each section in seconds\n",
    "ngsim_df['time_spent'] = 100 / ngsim_df['v_Vel_m_s']\n",
    "\n",
    "# Perform statistical calculations\n",
    "result_df = ngsim_df.groupby(['Section_ID', 'Global_Time']).agg(\n",
    "    meanSpeed=('v_Vel', 'mean'),\n",
    "    meanTimeLoss=('time_loss', 'mean'),\n",
    "    nVehLeft=('leave', 'sum'),\n",
    "    nVehsSeen=('Vehicle_ID', 'count'),\n",
    "    nVehEntered=('enter', 'sum'),\n",
    "    sampledSeconds=('time_spent', 'sum')\n",
    ").reset_index()\n",
    "\n",
    "# Calculate end time\n",
    "result_df.columns = ['Section_ID', 'begin', 'meanSpeed', 'meanTimeLoss', 'nVehLeft', 'nVehsSeen', 'nVehEntered', 'sampledSeconds']\n",
    "\n",
    "# Calculate end time\n",
    "result_df['begin'] = result_df['begin'] / 1000\n",
    "result_df['end'] = result_df['begin'] + 45\n",
    "# Insert 'end' column to the right of 'begin' column\n",
    "end_col = result_df.pop('end')\n",
    "result_df.insert(result_df.columns.get_loc('begin') + 1, 'end', end_col)\n",
    "\n",
    "# Find the maximum value of meanTimeLoss\n",
    "max_time_loss = result_df['meanTimeLoss'].max()\n",
    "\n",
    "# Divide each meanTimeLoss value by the maximum value and subtract it from 1\n",
    "result_df['meanTimeLoss'] = 1 - (result_df['meanTimeLoss'] / max_time_loss)\n",
    "row['meanTimeLoss'] = f\"{mean_time_loss:.2f}\"\n",
    "# Keep it as the original format of model input\n",
    "# Print the number of rows in the processed data\n",
    "print(f\"Output rows: {len(result_df)}\")\n",
    "\n",
    "# Output the results\n",
    "result_df.to_csv('D:\\\\NGSIM数据处理\\\\Test_Set_NGSIM_speed.csv', index=False)\n"
   ]
  },
  {
   "cell_type": "code",
   "execution_count": 137,
   "id": "fe85057f",
   "metadata": {},
   "outputs": [],
   "source": [
    "import pandas as pd\n",
    "\n",
    "# Read file\n",
    "df = pd.read_csv('D:\\\\NGSIM数据处理\\\\Test_Set_NGSIM_speed.csv')\n",
    "\n",
    "# Modify the file to the input of model\n",
    "df = df.drop(columns=['Section_ID'])\n",
    "df = df.rename(columns={'nVehsSeen': 'nVehSeen'})\n",
    "df = df[['begin', 'end', 'sampledSeconds', 'nVehEntered', 'nVehLeft', 'nVehSeen', 'meanSpeed', 'meanTimeLoss']]\n",
    "\n",
    "# Save the new dataframe as a file\n",
    "df.to_csv('D:\\\\NGSIM数据处理\\\\NGSIM_Test_Set.csv', index=False)\n"
   ]
  },
  {
   "cell_type": "code",
   "execution_count": null,
   "id": "62de5373",
   "metadata": {},
   "outputs": [],
   "source": []
  }
 ],
 "metadata": {
  "kernelspec": {
   "display_name": "insseg",
   "language": "python",
   "name": "insseg"
  },
  "language_info": {
   "codemirror_mode": {
    "name": "ipython",
    "version": 3
   },
   "file_extension": ".py",
   "mimetype": "text/x-python",
   "name": "python",
   "nbconvert_exporter": "python",
   "pygments_lexer": "ipython3",
   "version": "3.11.3"
  }
 },
 "nbformat": 4,
 "nbformat_minor": 5
}
